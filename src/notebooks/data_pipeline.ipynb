{
 "cells": [
  {
   "cell_type": "code",
   "execution_count": 32,
   "metadata": {},
   "outputs": [],
   "source": [
    "import os \n",
    "import boto3\n",
    "\n",
    "def download_a_dir_from_s3(bucket_name, bucket_prefix, local_path):\n",
    "    \"\"\"\n",
    "    download the folder from S3 \n",
    "    \n",
    "    local: /src/tmp/model_data/\n",
    "    \"\"\"\n",
    "    print \"* Helper: Loading Images from S3 {} {}\".format(bucket_name,bucket_prefix)\n",
    "    s3 = boto3.resource('s3')\n",
    "    mybucket = s3.Bucket(bucket_name)\n",
    "    # if blank prefix is given, return everything)\n",
    "    objs = mybucket.objects.filter(\n",
    "        Prefix = bucket_prefix)\n",
    "    \n",
    "    for obj in objs:\n",
    "        path, filename = os.path.split(obj.key)\n",
    "        save_path = os.path.join(local_path, path)\n",
    "        # boto3 s3 download_file will throw exception if folder not exists\n",
    "        try:\n",
    "            os.makedirs(save_path)\n",
    "        except OSError:\n",
    "            pass\n",
    "        mybucket.download_file(obj.key, os.path.join(save_path, filename))\n",
    "        \n",
    "    # move the folder to target place\n",
    "    output_path = os.path.join(local_path, bucket_prefix)\n",
    "    print \"* Helper: Images Loaded at: {}\".format(output_path)\n",
    "    return output_path"
   ]
  },
  {
   "cell_type": "code",
   "execution_count": 33,
   "metadata": {},
   "outputs": [
    {
     "name": "stdout",
     "output_type": "stream",
     "text": [
      "* Helper: Loading Images from S3 michaniki models/catVdog_less\n",
      "* Helper: Images Loaded at: ../tmp/models/catVdog_less\n"
     ]
    },
    {
     "data": {
      "text/plain": [
       "'../tmp/models/catVdog_less'"
      ]
     },
     "execution_count": 33,
     "metadata": {},
     "output_type": "execute_result"
    }
   ],
   "source": [
    "download_a_dir_from_s3('michaniki', 'models/catVdog_less', '../tmp')"
   ]
  },
  {
   "cell_type": "code",
   "execution_count": 36,
   "metadata": {},
   "outputs": [
    {
     "data": {
      "text/plain": [
       "'path'"
      ]
     },
     "execution_count": 36,
     "metadata": {},
     "output_type": "execute_result"
    }
   ],
   "source": [
    "'models/path'.split('/')[-1]"
   ]
  },
  {
   "cell_type": "code",
   "execution_count": 38,
   "metadata": {},
   "outputs": [
    {
     "name": "stdout",
     "output_type": "stream",
     "text": [
      "<type 'dict'>\n"
     ]
    }
   ],
   "source": [
    "print type(label)"
   ]
  },
  {
   "cell_type": "code",
   "execution_count": 43,
   "metadata": {},
   "outputs": [],
   "source": [
    "from collections import OrderedDict\n",
    "new_label = OrderedDict()\n",
    "for k, v in label.iteritems():\n",
    "    new_label[v] = k"
   ]
  },
  {
   "cell_type": "code",
   "execution_count": 102,
   "metadata": {},
   "outputs": [
    {
     "name": "stdout",
     "output_type": "stream",
     "text": [
      "* Helper: Classes Label Json Saved\n"
     ]
    }
   ],
   "source": [
    "import json\n",
    "def save_classes_label_dict(label_dict, file_path_name):\n",
    "    \"\"\"\n",
    "    save the class label dictionary to json\n",
    "    \"\"\"\n",
    "    with open(file_path_name, 'w') as fp:\n",
    "        json.dump(label_dict, fp)\n",
    "    \n",
    "    print \"* Helper: Classes Label Json Saved\"\n",
    "\n",
    "save_classes_label_dict(label, \"./base.json\")"
   ]
  },
  {
   "cell_type": "code",
   "execution_count": null,
   "metadata": {},
   "outputs": [],
   "source": []
  },
  {
   "cell_type": "code",
   "execution_count": 82,
   "metadata": {},
   "outputs": [],
   "source": [
    "import numpy as np\n",
    "\n",
    "d = np.array([[1.000000e+00, 7.484966e-17,3,4,5,6], [3,2,10,1,0,2], [0,1,8,9,1,10]])"
   ]
  },
  {
   "cell_type": "code",
   "execution_count": null,
   "metadata": {},
   "outputs": [],
   "source": []
  },
  {
   "cell_type": "code",
   "execution_count": 85,
   "metadata": {},
   "outputs": [
    {
     "name": "stdout",
     "output_type": "stream",
     "text": [
      "[5 4 3 2 0 1] [6.000000e+00 5.000000e+00 4.000000e+00 3.000000e+00 1.000000e+00\n",
      " 7.484966e-17]\n",
      "[2 0 5 1 3 4] [10.  3.  2.  2.  1.  0.]\n",
      "[5 3 2 4 1 0] [10.  9.  8.  1.  1.  0.]\n"
     ]
    }
   ],
   "source": [
    "for each_list in d:\n",
    "    i = np.argsort(each_list)[::-1]\n",
    "    v = np.sort(each_list)[::-1]\n",
    "    print i,v"
   ]
  },
  {
   "cell_type": "code",
   "execution_count": 90,
   "metadata": {},
   "outputs": [],
   "source": [
    "res = map(label.get, i)"
   ]
  },
  {
   "cell_type": "code",
   "execution_count": 91,
   "metadata": {},
   "outputs": [
    {
     "data": {
      "text/plain": [
       "['electric ray, crampfish, numbfish, torpedo',\n",
       " 'tiger shark, Galeocerdo cuvieri',\n",
       " 'great white shark, white shark, man-eater, man-eating shark, Carcharodon carcharias',\n",
       " 'hammerhead, hammerhead shark',\n",
       " 'goldfish, Carassius auratus',\n",
       " 'tench, Tinca tinca']"
      ]
     },
     "execution_count": 91,
     "metadata": {},
     "output_type": "execute_result"
    }
   ],
   "source": [
    "res"
   ]
  },
  {
   "cell_type": "code",
   "execution_count": 98,
   "metadata": {},
   "outputs": [
    {
     "name": "stdout",
     "output_type": "stream",
     "text": [
      "/d/g.json\n"
     ]
    }
   ],
   "source": []
  },
  {
   "cell_type": "code",
   "execution_count": null,
   "metadata": {},
   "outputs": [],
   "source": []
  }
 ],
 "metadata": {
  "kernelspec": {
   "display_name": "insight",
   "language": "python",
   "name": "insight"
  }
 },
 "nbformat": 4,
 "nbformat_minor": 2
}
