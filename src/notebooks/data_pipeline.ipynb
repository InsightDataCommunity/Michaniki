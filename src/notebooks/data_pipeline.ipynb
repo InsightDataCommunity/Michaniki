{
 "cells": [
  {
   "cell_type": "code",
   "execution_count": 32,
   "metadata": {},
   "outputs": [],
   "source": [
    "import os \n",
    "import boto3\n",
    "\n",
    "def download_a_dir_from_s3(bucket_name, bucket_prefix, local_path):\n",
    "    \"\"\"\n",
    "    download the folder from S3 \n",
    "    \n",
    "    local: /src/tmp/model_data/\n",
    "    \"\"\"\n",
    "    print \"* Helper: Loading Images from S3 {} {}\".format(bucket_name,bucket_prefix)\n",
    "    s3 = boto3.resource('s3')\n",
    "    mybucket = s3.Bucket(bucket_name)\n",
    "    # if blank prefix is given, return everything)\n",
    "    objs = mybucket.objects.filter(\n",
    "        Prefix = bucket_prefix)\n",
    "    \n",
    "    for obj in objs:\n",
    "        path, filename = os.path.split(obj.key)\n",
    "        save_path = os.path.join(local_path, path)\n",
    "        # boto3 s3 download_file will throw exception if folder not exists\n",
    "        try:\n",
    "            os.makedirs(save_path)\n",
    "        except OSError:\n",
    "            pass\n",
    "        mybucket.download_file(obj.key, os.path.join(save_path, filename))\n",
    "        \n",
    "    # move the folder to target place\n",
    "    output_path = os.path.join(local_path, bucket_prefix)\n",
    "    print \"* Helper: Images Loaded at: {}\".format(output_path)\n",
    "    return output_path"
   ]
  },
  {
   "cell_type": "code",
   "execution_count": 33,
   "metadata": {},
   "outputs": [
    {
     "name": "stdout",
     "output_type": "stream",
     "text": [
      "* Helper: Loading Images from S3 michaniki models/catVdog_less\n",
      "* Helper: Images Loaded at: ../tmp/models/catVdog_less\n"
     ]
    },
    {
     "data": {
      "text/plain": [
       "'../tmp/models/catVdog_less'"
      ]
     },
     "execution_count": 33,
     "metadata": {},
     "output_type": "execute_result"
    }
   ],
   "source": [
    "download_a_dir_from_s3('michaniki', 'models/catVdog_less', '../tmp')"
   ]
  },
  {
   "cell_type": "code",
   "execution_count": 36,
   "metadata": {},
   "outputs": [
    {
     "data": {
      "text/plain": [
       "'path'"
      ]
     },
     "execution_count": 36,
     "metadata": {},
     "output_type": "execute_result"
    }
   ],
   "source": [
    "'models/path'.split('/')[-1]"
   ]
  },
  {
   "cell_type": "code",
   "execution_count": null,
   "metadata": {},
   "outputs": [],
   "source": []
  }
 ],
 "metadata": {
  "kernelspec": {
   "display_name": "insight",
   "language": "python",
   "name": "insight"
  }
 },
 "nbformat": 4,
 "nbformat_minor": 2
}
