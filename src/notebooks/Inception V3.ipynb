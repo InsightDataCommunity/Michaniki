{
 "cells": [
  {
   "cell_type": "code",
   "execution_count": 1,
   "metadata": {},
   "outputs": [
    {
     "name": "stderr",
     "output_type": "stream",
     "text": [
      "Using TensorFlow backend.\n"
     ]
    }
   ],
   "source": [
    "# https://keras.io/applications/#inceptionv3\n",
    "import numpy as np\n",
    "\n",
    "import keras\n",
    "\n",
    "from keras.models import load_model\n",
    "from keras_applications import inception_v3\n",
    "from keras.preprocessing import image\n",
    "from keras.optimizers import Adam\n",
    "from keras.preprocessing.image import ImageDataGenerator\n",
    "from keras.layers import Dense, GlobalAveragePooling2D\n",
    "\n",
    "decode_predictions = inception_v3.decode_predictions\n",
    "preprocess_input = inception_v3.preprocess_input"
   ]
  },
  {
   "cell_type": "code",
   "execution_count": 2,
   "metadata": {},
   "outputs": [],
   "source": [
    "base_model = keras.applications.inception_v3.InceptionV3(include_top=True, \n",
    "                                                    weights='imagenet',\n",
    "                                                    input_shape=(299, 299, 3))"
   ]
  },
  {
   "cell_type": "code",
   "execution_count": 3,
   "metadata": {},
   "outputs": [],
   "source": [
    "base_model.save('base.h5')"
   ]
  },
  {
   "cell_type": "code",
   "execution_count": 2,
   "metadata": {},
   "outputs": [
    {
     "name": "stdout",
     "output_type": "stream",
     "text": [
      "Downloading data from https://github.com/fchollet/deep-learning-models/releases/download/v0.1/vgg16_weights_tf_dim_ordering_tf_kernels.h5\n",
      "553467904/553467096 [==============================] - 1248s 2us/step\n",
      "553476096/553467096 [==============================] - 1248s 2us/step\n"
     ]
    }
   ],
   "source": [
    "# Load VGG16 model\n",
    "from keras_applications import vgg16\n",
    "\n",
    "vgg16_base = keras.applications.vgg16.VGG16(include_top=True, \n",
    "                                            weights='imagenet',                       \n",
    "                                            input_shape=(224, 224, 3))"
   ]
  },
  {
   "cell_type": "code",
   "execution_count": 3,
   "metadata": {},
   "outputs": [],
   "source": [
    "vgg16_base.save(\"vgg16_base.h5\")"
   ]
  },
  {
   "cell_type": "markdown",
   "metadata": {},
   "source": [
    "## Load Inception V3 without weight"
   ]
  },
  {
   "cell_type": "code",
   "execution_count": 28,
   "metadata": {},
   "outputs": [],
   "source": [
    "random_model = keras.applications.inception_v3.InceptionV3(include_top=True, \n",
    "                                                          weights=None,\n",
    "                                                          input_shape=(299,299,3))"
   ]
  },
  {
   "cell_type": "code",
   "execution_count": 22,
   "metadata": {},
   "outputs": [
    {
     "name": "stdout",
     "output_type": "stream",
     "text": [
      "('Predicted:', [[(u'n03179701', u'desk', 0.0042196936), (u'n04254680', u'soccer_ball', 0.0034656876), (u'n02869837', u'bonnet', 0.0034430677), (u'n02127052', u'lynx', 0.0030195264), (u'n01498041', u'stingray', 0.0026553636)]])\n"
     ]
    }
   ],
   "source": [
    "# run a prediction on the model withot training\n",
    "img_path = './train/shark/sharks2.png'\n",
    "img = image.load_img(img_path, target_size=(299, 299))\n",
    "x = image.img_to_array(img)\n",
    "x = np.expand_dims(x, axis=0)\n",
    "x = preprocess_input(x)\n",
    "\n",
    "preds = random_model.predict(x)\n",
    "print('Predicted:', decode_predictions(preds))"
   ]
  },
  {
   "cell_type": "code",
   "execution_count": 27,
   "metadata": {},
   "outputs": [
    {
     "name": "stdout",
     "output_type": "stream",
     "text": [
      "(50, 229, 229, 3)\n",
      "(50,)\n"
     ]
    }
   ],
   "source": [
    "# a fake example\n",
    "x_train = np.random.normal(loc=127, scale=127, size=(50, 229,229,3))\n",
    "y_train = np.array([0,1]*25)\n",
    "x_train = preprocess_input(x_train)\n",
    "\n",
    "print x_train.shape\n",
    "print y_train.shape"
   ]
  },
  {
   "cell_type": "markdown",
   "metadata": {},
   "source": [
    "### Pick-up training using new pictures"
   ]
  },
  {
   "cell_type": "code",
   "execution_count": 29,
   "metadata": {},
   "outputs": [],
   "source": [
    "random_model.compile(loss='sparse_categorical_crossentropy',\n",
    "              optimizer=Adam(lr=0.0001),\n",
    "              metrics=['acc'])"
   ]
  },
  {
   "cell_type": "code",
   "execution_count": 32,
   "metadata": {},
   "outputs": [
    {
     "name": "stdout",
     "output_type": "stream",
     "text": [
      "[3]\n"
     ]
    }
   ],
   "source": [
    "# load image and create a label\n",
    "img_path = './train/shark/sharks2.png'\n",
    "img = image.load_img(img_path, target_size=(299, 299))\n",
    "x = image.img_to_array(img)\n",
    "x = np.expand_dims(x, axis=0)\n",
    "x = preprocess_input(x)\n",
    "\n",
    "label = np.array([3])\n",
    "print label"
   ]
  },
  {
   "cell_type": "code",
   "execution_count": 33,
   "metadata": {},
   "outputs": [
    {
     "name": "stdout",
     "output_type": "stream",
     "text": [
      "(1, 299, 299, 3) (1,)\n"
     ]
    }
   ],
   "source": [
    "print x.shape, label.shape"
   ]
  },
  {
   "cell_type": "code",
   "execution_count": 34,
   "metadata": {},
   "outputs": [
    {
     "name": "stdout",
     "output_type": "stream",
     "text": [
      "Epoch 1/3\n",
      " - 21s - loss: 7.1971 - acc: 0.0000e+00\n",
      "Epoch 2/3\n",
      " - 1s - loss: 7.0153 - acc: 0.0000e+00\n",
      "Epoch 3/3\n",
      " - 1s - loss: 6.8182 - acc: 0.0000e+00\n"
     ]
    },
    {
     "data": {
      "text/plain": [
       "<keras.callbacks.History at 0x158a7b850>"
      ]
     },
     "execution_count": 34,
     "metadata": {},
     "output_type": "execute_result"
    }
   ],
   "source": [
    "# train\n",
    "random_model.fit(x, label, epochs=3, batch_size=1, verbose=2)"
   ]
  },
  {
   "cell_type": "code",
   "execution_count": 35,
   "metadata": {},
   "outputs": [
    {
     "name": "stdout",
     "output_type": "stream",
     "text": [
      "('Predicted:', [[(u'n01692333', u'Gila_monster', 0.004310805), (u'n02490219', u'marmoset', 0.0042495313), (u'n02107683', u'Bernese_mountain_dog', 0.004238896), (u'n03841143', u'odometer', 0.0037095207), (u'n02841315', u'binoculars', 0.003545996)]])\n"
     ]
    }
   ],
   "source": [
    "# predict the same image use the updated random model\n",
    "preds = random_model.predict(x)\n",
    "print('Predicted:', decode_predictions(preds))"
   ]
  },
  {
   "cell_type": "code",
   "execution_count": 44,
   "metadata": {},
   "outputs": [],
   "source": [
    "# didn't work out well, how about on a pre-trained model, but I have to know how it get the compiled\n",
    "\n",
    "# this is a model with weight\n",
    "pretrained_model = keras.applications.inception_v3.InceptionV3(include_top=True, \n",
    "                                                          weights='imagenet',\n",
    "                                                          input_shape=(299,299,3))\n",
    "pretrained_model.compile(loss='categorical_crossentropy',\n",
    "              optimizer=Adam(lr=0.0001),\n",
    "              metrics=['acc'])"
   ]
  },
  {
   "cell_type": "code",
   "execution_count": 47,
   "metadata": {},
   "outputs": [
    {
     "name": "stdout",
     "output_type": "stream",
     "text": [
      "('Predicted:', [[(u'n01491361', u'tiger_shark', 0.8138281), (u'n01494475', u'hammerhead', 0.113477096), (u'n01484850', u'great_white_shark', 0.03277753), (u'n04552348', u'warplane', 0.0018323737), (u'n04008634', u'projectile', 0.0013928588)]])\n"
     ]
    }
   ],
   "source": [
    "# load a new shark picture and predict on it\n",
    "\n",
    "img_path = './train/shark.jpg'\n",
    "img = image.load_img(img_path, target_size=(299, 299))\n",
    "x = image.img_to_array(img)\n",
    "x = np.expand_dims(x, axis=0)\n",
    "x = preprocess_input(x)\n",
    "\n",
    "preds = pretrained_model.predict(x)\n",
    "print('Predicted:', decode_predictions(preds))"
   ]
  },
  {
   "cell_type": "code",
   "execution_count": 66,
   "metadata": {},
   "outputs": [
    {
     "data": {
      "text/plain": [
       "(1, 1000)"
      ]
     },
     "execution_count": 66,
     "metadata": {},
     "output_type": "execute_result"
    }
   ],
   "source": [
    "# now, load this picture again, make up a label, and train the pre-trained model\n",
    "img_path = './train/shark.jpg'\n",
    "img = image.load_img(img_path, target_size=(299, 299))\n",
    "x = image.img_to_array(img)\n",
    "x = np.expand_dims(x, axis=0)\n",
    "x = preprocess_input(x)\n",
    "\n",
    "label = np.zeros((1,1000))\n",
    "label[0][3] = 1.0\n",
    "preds.shape"
   ]
  },
  {
   "cell_type": "code",
   "execution_count": 67,
   "metadata": {},
   "outputs": [
    {
     "name": "stdout",
     "output_type": "stream",
     "text": [
      "Epoch 1/3\n",
      " - 25s - loss: 6.9234 - acc: 0.0000e+00\n",
      "Epoch 2/3\n",
      " - 1s - loss: 6.4545 - acc: 1.0000\n",
      "Epoch 3/3\n",
      " - 1s - loss: 5.9737 - acc: 1.0000\n"
     ]
    },
    {
     "data": {
      "text/plain": [
       "<keras.callbacks.History at 0x1b00a82d0>"
      ]
     },
     "execution_count": 67,
     "metadata": {},
     "output_type": "execute_result"
    }
   ],
   "source": [
    "pretrained_model.fit(x, label, epochs=3, batch_size=1, verbose=2)"
   ]
  },
  {
   "cell_type": "code",
   "execution_count": 69,
   "metadata": {},
   "outputs": [
    {
     "name": "stdout",
     "output_type": "stream",
     "text": [
      "('Predicted:', [[(u'n03250847', u'drumstick', 0.7862794), (u'n03249569', u'drum', 0.108679965), (u'n04286575', u'spotlight', 0.058457434), (u'n03887697', u'paper_towel', 0.024892315), (u'n03633091', u'ladle', 0.004455708)]])\n"
     ]
    }
   ],
   "source": [
    "# run the prediction on the same picture again\n",
    "# hopefully it won't mess-up the model weights\n",
    "img_path = './train/cat/cat.1000.jpg'\n",
    "img = image.load_img(img_path, target_size=(299, 299))\n",
    "x = image.img_to_array(img)\n",
    "x = np.expand_dims(x, axis=0)\n",
    "x = preprocess_input(x)\n",
    "\n",
    "preds = pretrained_model.predict(x)\n",
    "print('Predicted:', decode_predictions(preds))"
   ]
  },
  {
   "cell_type": "code",
   "execution_count": null,
   "metadata": {},
   "outputs": [],
   "source": []
  }
 ],
 "metadata": {
  "kernelspec": {
   "display_name": "insight",
   "language": "python",
   "name": "insight"
  },
  "language_info": {
   "codemirror_mode": {
    "name": "ipython",
    "version": 2
   },
   "file_extension": ".py",
   "mimetype": "text/x-python",
   "name": "python",
   "nbconvert_exporter": "python",
   "pygments_lexer": "ipython2",
   "version": "2.7.15"
  }
 },
 "nbformat": 4,
 "nbformat_minor": 2
}
